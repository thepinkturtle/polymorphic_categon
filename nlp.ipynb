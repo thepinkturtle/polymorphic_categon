{
 "cells": [
  {
   "cell_type": "code",
   "execution_count": 1,
   "metadata": {},
   "outputs": [],
   "source": [
    "import numpy as np\n",
    "import matplotlib.pyplot as plt\n",
    "import pandas as pd\n",
    "import os\n",
    "import math\n",
    "import nltk"
   ]
  },
  {
   "cell_type": "code",
   "execution_count": 71,
   "metadata": {},
   "outputs": [],
   "source": [
    "dataframe = pd.read_csv('cat.csv', sep='\\ : ')\n",
    "dataset = np.array(dataframe)"
   ]
  },
  {
   "cell_type": "code",
   "execution_count": 72,
   "metadata": {
    "tags": [
     "outputPrepend",
     "outputPrepend",
     "outputPrepend",
     "outputPrepend",
     "outputPrepend",
     "outputPrepend",
     "outputPrepend",
     "outputPrepend",
     "outputPrepend"
    ]
   },
   "outputs": [],
   "source": [
    "# remove 'Mark Otto, '\n",
    "count = 0\n",
    "for row in dataset:\n",
    "    dataset[count,0] = str(row[0]).replace('Mark Otto, ', '')\n",
    "    count += 1"
   ]
  },
  {
   "cell_type": "code",
   "execution_count": 73,
   "metadata": {},
   "outputs": [],
   "source": [
    "dataframe = pd.DataFrame(data=dataset, columns=['datetime', 'comment'])"
   ]
  },
  {
   "cell_type": "code",
   "execution_count": 74,
   "metadata": {},
   "outputs": [],
   "source": [
    "dataframe.datetime = pd.Categorical(dataframe.datetime)"
   ]
  },
  {
   "cell_type": "code",
   "execution_count": 103,
   "metadata": {
    "tags": [
     "outputPrepend",
     "outputPrepend",
     "outputPrepend",
     "outputPrepend",
     "outputPrepend",
     "outputPrepend",
     "outputPrepend",
     "outputPrepend",
     "outputPrepend"
    ]
   },
   "outputs": [],
   "source": [
    "from nltk.corpus import stopwords\n",
    "from nltk.stem.porter import PorterStemmer\n",
    "from nltk.corpus import treebank\n",
    "from collections import Counter\n",
    "import tkinter\n",
    "import re"
   ]
  },
  {
   "cell_type": "code",
   "execution_count": 62,
   "metadata": {},
   "outputs": [],
   "source": [
    "def depunct(comments):    \n",
    "    sentence = comments\n",
    "    tokenizer = nltk.RegexpTokenizer(r\"\\w+\")\n",
    "    sentences_without_punctuation = tokenizer.tokenize(sentence)\n",
    "    return sentences_without_punctuation"
   ]
  },
  {
   "cell_type": "code",
   "execution_count": 111,
   "metadata": {},
   "outputs": [],
   "source": [
    "def most_common(comments, nb_common):\n",
    "        for word in comments:\n",
    "            if not word.isalpha():\n",
    "                comments.remove(word)\n",
    "        counter = Counter(comments)\n",
    "        most_occur = counter.most_common(nb_common)\n",
    "        return most_occur"
   ]
  },
  {
   "cell_type": "code",
   "execution_count": 105,
   "metadata": {
    "tags": [
     "outputPrepend",
     "outputPrepend",
     "outputPrepend",
     "outputPrepend",
     "outputPrepend",
     "outputPrepend",
     "outputPrepend",
     "outputPrepend",
     "outputPrepend",
     "outputPrepend",
     "outputPrepend"
    ]
   },
   "outputs": [],
   "source": [
    "depunct_dataset = dataset\n",
    "count = 0\n",
    "total_comments = []\n",
    "for row in dataset:\n",
    "    depunct_comments = depunct(row[1])\n",
    "    depunct_comments = [word for word in depunct_comments if word not in stopwords.words('english')]\n",
    "    total_comments += depunct_comments\n",
    "    depunct_comments = ' '.join(depunct_comments)\n",
    "    count += 1"
   ]
  },
  {
   "cell_type": "code",
   "execution_count": 125,
   "metadata": {
    "tags": [
     "outputPrepend"
    ]
   },
   "outputs": [
    {
     "output_type": "stream",
     "name": "stdout",
     "text": "[('Merge', 2408), ('pull', 1282), ('request', 1251), ('branch', 1170), ('docs', 1151), ('wip', 979), ('fix', 816), ('com', 776), ('github', 770), ('bootstrap', 764)]\n"
    }
   ],
   "source": [
    "most_common = most_common(total_comments, 10)\n",
    "print(most_common)"
   ]
  },
  {
   "cell_type": "code",
   "execution_count": 127,
   "metadata": {},
   "outputs": [],
   "source": [
    "np.savetxt(os.getcwd()+'/excel_dataset.csv', depunct_dataset, delimiter=\",\", fmt='%s')"
   ]
  }
 ],
 "metadata": {
  "language_info": {
   "codemirror_mode": {
    "name": "ipython",
    "version": 3
   },
   "file_extension": ".py",
   "mimetype": "text/x-python",
   "name": "python",
   "nbconvert_exporter": "python",
   "pygments_lexer": "ipython3",
   "version": "3.7.4-final"
  },
  "orig_nbformat": 2,
  "kernelspec": {
   "name": "python37464bitbaseconda5891c73ffa6c4437a8810a5de2e3b865",
   "display_name": "Python 3.7.4 64-bit ('base': conda)"
  }
 },
 "nbformat": 4,
 "nbformat_minor": 2
}